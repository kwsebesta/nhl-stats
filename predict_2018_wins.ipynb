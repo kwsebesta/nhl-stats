{
 "cells": [
  {
   "cell_type": "code",
   "execution_count": 7,
   "metadata": {},
   "outputs": [],
   "source": [
    "import matplotlib.pyplot as plt\n",
    "import pandas as pd\n",
    "import numpy as np\n",
    "import sqlalchemy\n",
    "import sklearn\n",
    "from sklearn.linear_model import LogisticRegression\n",
    "from sklearn.tree import DecisionTreeClassifier\n",
    "from sklearn.preprocessing import OneHotEncoder\n",
    "from sklearn.neighbors import KNeighborsClassifier\n",
    "from sklearn import metrics\n",
    "from sklearn import model_selection\n",
    "from scrape import get_teams\n",
    "\n",
    "#to ignore future warnings\n",
    "import warnings\n",
    "warnings.simplefilter(action='ignore', category=FutureWarning)\n",
    "warnings.filterwarnings(\"ignore\")"
   ]
  },
  {
   "cell_type": "code",
   "execution_count": 8,
   "metadata": {},
   "outputs": [],
   "source": [
    "#conn = sqlcmds.create_connection('nhl-stats.sqlite3')\n",
    "engine = sqlalchemy.create_engine('sqlite:///nhl-stats.sqlite3')\n",
    "conn = engine.connect()"
   ]
  },
  {
   "cell_type": "code",
   "execution_count": 9,
   "metadata": {},
   "outputs": [],
   "source": [
    "def predict_season_wins(team, conn): \n",
    "    \"\"\" Function to predict season wins of a NHL team \n",
    "    :param conn: Connection object \n",
    "    :param team: team name of interest \n",
    "    :return accuracy: accuracy of prediction \"\"\" \n",
    "    data = pd.read_sql_table(team, conn) \n",
    "    \n",
    "    # Get X and y. We're using all of the boxscore stats as features for our model \n",
    "    feature_cols = ['season', 'venue', 'goals', 'powerPlayPercentage', 'powerPlayGoals', 'powerPlayOpportunities', 'faceOffWinPercentage', 'shots', 'blocked', 'takeaways', 'giveaways', 'hits'] \n",
    "    \n",
    "    X = data[feature_cols] \n",
    "    X.loc[:,'venue'] = X.loc[:,'venue'].map({'home': 1, 'away': 0}) #integer encode venue \n",
    "    y = data.loc[:,['result', 'season', 'shots']] #include shots to keep track of current games played \n",
    "    y.loc[:,'result'] = y.loc[:,'result'].map({'win': 1, 'loss': 0}) #map to binary for classification \n",
    "    \n",
    "    # Split into test and train data. Use 3 previous seasons for training data (2015/2016, 2016/2017, 2017/2018). \n",
    "    # Use current season as test data. \n",
    "    X_train, X_test = X.loc[X['season'] < 2018], X.loc[(X['season'] == 2018) & (X['shots'] > 0)] \n",
    "    X_train, X_test = X_train.drop(columns=['season']), X_test.drop(columns=['season']) \n",
    "    \n",
    "    y_train, y_test = y.loc[y['season'] < 2018], y.loc[(y['season'] == 2018) & (y['shots'] > 0)] \n",
    "    y_train, y_test = y_train.drop(columns=['season', 'shots']), y_test.drop(columns=['season', 'shots']) \n",
    "    \n",
    "    # Select best performing model from 10fold cross validation of training set \n",
    "    models = [LogisticRegression(), DecisionTreeClassifier(), KNeighborsClassifier()] \n",
    "    accuracy_results = [] \n",
    "    for model in models: \n",
    "        kfold = model_selection.KFold(n_splits=10,random_state=0) \n",
    "        results = model_selection.cross_val_score(model, X_train, y_train.values.ravel(), cv=kfold) \n",
    "        accuracy_results.append(results.mean()) \n",
    "        \n",
    "    model = models[accuracy_results.index(max(accuracy_results))] \n",
    "    model.fit(X_train, y_train.values.ravel()) \n",
    "    \n",
    "    y_pred = model.predict(X_test) \n",
    "    res = metrics.accuracy_score(y_test, y_pred) \n",
    "    print(type(model).__name__, 'Accuracy on', team, 'test set: {:.3f}'.format(res)) \n",
    "    \n",
    "    return res"
   ]
  },
  {
   "cell_type": "code",
   "execution_count": 10,
   "metadata": {},
   "outputs": [],
   "source": [
    "team_names, team_ids = get_teams()"
   ]
  },
  {
   "cell_type": "code",
   "execution_count": 11,
   "metadata": {},
   "outputs": [
    {
     "name": "stdout",
     "output_type": "stream",
     "text": [
      "LogisticRegression Accuracy on New Jersey Devils test set: 0.758\n",
      "LogisticRegression Accuracy on New York Islanders test set: 0.844\n",
      "LogisticRegression Accuracy on New York Rangers test set: 0.703\n",
      "LogisticRegression Accuracy on Philadelphia Flyers test set: 0.846\n",
      "LogisticRegression Accuracy on Pittsburgh Penguins test set: 0.708\n",
      "LogisticRegression Accuracy on Boston Bruins test set: 0.738\n",
      "LogisticRegression Accuracy on Buffalo Sabres test set: 0.800\n",
      "LogisticRegression Accuracy on Montréal Canadiens test set: 0.818\n",
      "LogisticRegression Accuracy on Ottawa Senators test set: 0.662\n",
      "LogisticRegression Accuracy on Toronto Maple Leafs test set: 0.877\n",
      "LogisticRegression Accuracy on Carolina Hurricanes test set: 0.862\n",
      "LogisticRegression Accuracy on Florida Panthers test set: 0.672\n",
      "LogisticRegression Accuracy on Tampa Bay Lightning test set: 0.833\n",
      "LogisticRegression Accuracy on Washington Capitals test set: 0.815\n",
      "LogisticRegression Accuracy on Chicago Blackhawks test set: 0.662\n",
      "LogisticRegression Accuracy on Detroit Red Wings test set: 0.708\n",
      "LogisticRegression Accuracy on Nashville Predators test set: 0.791\n",
      "LogisticRegression Accuracy on St. Louis Blues test set: 0.754\n",
      "LogisticRegression Accuracy on Calgary Flames test set: 0.750\n",
      "LogisticRegression Accuracy on Colorado Avalanche test set: 0.754\n",
      "LogisticRegression Accuracy on Edmonton Oilers test set: 0.723\n",
      "LogisticRegression Accuracy on Vancouver Canucks test set: 0.831\n",
      "LogisticRegression Accuracy on Anaheim Ducks test set: 0.785\n",
      "LogisticRegression Accuracy on Dallas Stars test set: 0.831\n",
      "LogisticRegression Accuracy on Los Angeles Kings test set: 0.738\n",
      "LogisticRegression Accuracy on San Jose Sharks test set: 0.785\n",
      "LogisticRegression Accuracy on Columbus Blue Jackets test set: 0.844\n",
      "LogisticRegression Accuracy on Minnesota Wild test set: 0.875\n",
      "LogisticRegression Accuracy on Winnipeg Jets test set: 0.891\n",
      "LogisticRegression Accuracy on Arizona Coyotes test set: 0.831\n",
      "LogisticRegression Accuracy on Vegas Golden Knights test set: 0.742\n"
     ]
    }
   ],
   "source": [
    "res = []\n",
    "for team in team_names:\n",
    "    res.append(predict_season_wins(team, conn))"
   ]
  },
  {
   "cell_type": "code",
   "execution_count": 12,
   "metadata": {},
   "outputs": [
    {
     "name": "stdout",
     "output_type": "stream",
     "text": [
      "Accuracy: 0.782 (0.065)\n"
     ]
    }
   ],
   "source": [
    "print('Accuracy: {:.3f} ({:.3f})'.format(np.mean(res), np.std(res)))"
   ]
  },
  {
   "cell_type": "code",
   "execution_count": null,
   "metadata": {},
   "outputs": [],
   "source": []
  }
 ],
 "metadata": {
  "kernelspec": {
   "display_name": "Python 3",
   "language": "python",
   "name": "python3"
  },
  "language_info": {
   "codemirror_mode": {
    "name": "ipython",
    "version": 3
   },
   "file_extension": ".py",
   "mimetype": "text/x-python",
   "name": "python",
   "nbconvert_exporter": "python",
   "pygments_lexer": "ipython3",
   "version": "3.7.2"
  }
 },
 "nbformat": 4,
 "nbformat_minor": 2
}
