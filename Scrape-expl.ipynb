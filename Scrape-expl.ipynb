{
 "cells": [
  {
   "cell_type": "code",
   "execution_count": 1,
   "metadata": {},
   "outputs": [],
   "source": [
    "import requests"
   ]
  },
  {
   "cell_type": "code",
   "execution_count": 2,
   "metadata": {},
   "outputs": [],
   "source": [
    "#Grab json of requests\n",
    "teams = requests.get('https://statsapi.web.nhl.com/api/v1/teams').json()\n",
    "stattype = requests.get('https://statsapi.web.nhl.com/api/v1/statTypes').json()"
   ]
  },
  {
   "cell_type": "code",
   "execution_count": 3,
   "metadata": {},
   "outputs": [
    {
     "name": "stdout",
     "output_type": "stream",
     "text": [
      "copyright NHL and the NHL Shield are registered trademarks of the National Hockey League. NHL and NHL team marks are the property of the NHL and its teams. © NHL 2019. All Rights Reserved.\n",
      "teams [{'id': 1, 'name': 'New Jersey Devils', 'link': '/api/v1/teams/1', 'venue': {'name': 'Prudential Center', 'link': '/api/v1/venues/null', 'city': 'Newark', 'timeZone': {'id': 'America/New_York', 'offset': -5, 'tz': 'EST'}}, 'abbreviation': 'NJD', 'teamName': 'Devils', 'locationName': 'New Jersey', 'firstYearOfPlay': '1982', 'division': {'id': 18, 'name': 'Metropolitan', 'nameShort': 'Metro', 'link': '/api/v1/divisions/18', 'abbreviation': 'M'}, 'conference': {'id': 6, 'name': 'Eastern', 'link': '/api/v1/conferences/6'}, 'franchise': {'franchiseId': 23, 'teamName': 'Devils', 'link': '/api/v1/franchises/23'}, 'shortName': 'New Jersey', 'officialSiteUrl': 'http://www.newjerseydevils.com/', 'franchiseId': 23, 'active': True}, {'id': 2, 'name': 'New York Islanders', 'link': '/api/v1/teams/2', 'venue': {'id': 5026, 'name': 'Barclays Center', 'link': '/api/v1/venues/5026', 'city': 'Brooklyn', 'timeZone': {'id': 'America/New_York', 'offset': -5, 'tz': 'EST'}}, 'abbreviation': 'NYI', 'teamName': 'Islanders', 'locationName': 'New York', 'firstYearOfPlay': '1972', 'division': {'id': 18, 'name': 'Metropolitan', 'nameShort': 'Metro', 'link': '/api/v1/divisions/18', 'abbreviation': 'M'}, 'conference': {'id': 6, 'name': 'Eastern', 'link': '/api/v1/conferences/6'}, 'franchise': {'franchiseId': 22, 'teamName': 'Islanders', 'link': '/api/v1/franchises/22'}, 'shortName': 'NY Islanders', 'officialSiteUrl': 'http://www.newyorkislanders.com/', 'franchiseId': 22, 'active': True}, {'id': 3, 'name': 'New York Rangers', 'link': '/api/v1/teams/3', 'venue': {'id': 5054, 'name': 'Madison Square Garden', 'link': '/api/v1/venues/5054', 'city': 'New York', 'timeZone': {'id': 'America/New_York', 'offset': -5, 'tz': 'EST'}}, 'abbreviation': 'NYR', 'teamName': 'Rangers', 'locationName': 'New York', 'firstYearOfPlay': '1926', 'division': {'id': 18, 'name': 'Metropolitan', 'nameShort': 'Metro', 'link': '/api/v1/divisions/18', 'abbreviation': 'M'}, 'conference': {'id': 6, 'name': 'Eastern', 'link': '/api/v1/conferences/6'}, 'franchise': {'franchiseId': 10, 'teamName': 'Rangers', 'link': '/api/v1/franchises/10'}, 'shortName': 'NY Rangers', 'officialSiteUrl': 'http://www.newyorkrangers.com/', 'franchiseId': 10, 'active': True}, {'id': 4, 'name': 'Philadelphia Flyers', 'link': '/api/v1/teams/4', 'venue': {'id': 5096, 'name': 'Wells Fargo Center', 'link': '/api/v1/venues/5096', 'city': 'Philadelphia', 'timeZone': {'id': 'America/New_York', 'offset': -5, 'tz': 'EST'}}, 'abbreviation': 'PHI', 'teamName': 'Flyers', 'locationName': 'Philadelphia', 'firstYearOfPlay': '1967', 'division': {'id': 18, 'name': 'Metropolitan', 'nameShort': 'Metro', 'link': '/api/v1/divisions/18', 'abbreviation': 'M'}, 'conference': {'id': 6, 'name': 'Eastern', 'link': '/api/v1/conferences/6'}, 'franchise': {'franchiseId': 16, 'teamName': 'Flyers', 'link': '/api/v1/franchises/16'}, 'shortName': 'Philadelphia', 'officialSiteUrl': 'http://www.philadelphiaflyers.com/', 'franchiseId': 16, 'active': True}, {'id': 5, 'name': 'Pittsburgh Penguins', 'link': '/api/v1/teams/5', 'venue': {'id': 5034, 'name': 'PPG Paints Arena', 'link': '/api/v1/venues/5034', 'city': 'Pittsburgh', 'timeZone': {'id': 'America/New_York', 'offset': -5, 'tz': 'EST'}}, 'abbreviation': 'PIT', 'teamName': 'Penguins', 'locationName': 'Pittsburgh', 'division': {'id': 18, 'name': 'Metropolitan', 'nameShort': 'Metro', 'link': '/api/v1/divisions/18', 'abbreviation': 'M'}, 'conference': {'id': 6, 'name': 'Eastern', 'link': '/api/v1/conferences/6'}, 'franchise': {'franchiseId': 17, 'teamName': 'Penguins', 'link': '/api/v1/franchises/17'}, 'shortName': 'Pittsburgh', 'officialSiteUrl': 'http://pittsburghpenguins.com/', 'franchiseId': 17, 'active': True}, {'id': 6, 'name': 'Boston Bruins', 'link': '/api/v1/teams/6', 'venue': {'id': 5085, 'name': 'TD Garden', 'link': '/api/v1/venues/5085', 'city': 'Boston', 'timeZone': {'id': 'America/New_York', 'offset': -5, 'tz': 'EST'}}, 'abbreviation': 'BOS', 'teamName': 'Bruins', 'locationName': 'Boston', 'firstYearOfPlay': '1924', 'division': {'id': 17, 'name': 'Atlantic', 'nameShort': 'ATL', 'link': '/api/v1/divisions/17', 'abbreviation': 'A'}, 'conference': {'id': 6, 'name': 'Eastern', 'link': '/api/v1/conferences/6'}, 'franchise': {'franchiseId': 6, 'teamName': 'Bruins', 'link': '/api/v1/franchises/6'}, 'shortName': 'Boston', 'officialSiteUrl': 'http://www.bostonbruins.com/', 'franchiseId': 6, 'active': True}, {'id': 7, 'name': 'Buffalo Sabres', 'link': '/api/v1/teams/7', 'venue': {'id': 5039, 'name': 'KeyBank Center', 'link': '/api/v1/venues/5039', 'city': 'Buffalo', 'timeZone': {'id': 'America/New_York', 'offset': -5, 'tz': 'EST'}}, 'abbreviation': 'BUF', 'teamName': 'Sabres', 'locationName': 'Buffalo', 'firstYearOfPlay': '1970', 'division': {'id': 17, 'name': 'Atlantic', 'nameShort': 'ATL', 'link': '/api/v1/divisions/17', 'abbreviation': 'A'}, 'conference': {'id': 6, 'name': 'Eastern', 'link': '/api/v1/conferences/6'}, 'franchise': {'franchiseId': 19, 'teamName': 'Sabres', 'link': '/api/v1/franchises/19'}, 'shortName': 'Buffalo', 'officialSiteUrl': 'http://www.sabres.com/', 'franchiseId': 19, 'active': True}, {'id': 8, 'name': 'Montréal Canadiens', 'link': '/api/v1/teams/8', 'venue': {'id': 5028, 'name': 'Bell Centre', 'link': '/api/v1/venues/5028', 'city': 'Montréal', 'timeZone': {'id': 'America/Montreal', 'offset': -5, 'tz': 'EST'}}, 'abbreviation': 'MTL', 'teamName': 'Canadiens', 'locationName': 'Montréal', 'firstYearOfPlay': '1909', 'division': {'id': 17, 'name': 'Atlantic', 'nameShort': 'ATL', 'link': '/api/v1/divisions/17', 'abbreviation': 'A'}, 'conference': {'id': 6, 'name': 'Eastern', 'link': '/api/v1/conferences/6'}, 'franchise': {'franchiseId': 1, 'teamName': 'Canadiens', 'link': '/api/v1/franchises/1'}, 'shortName': 'Montréal', 'officialSiteUrl': 'http://www.canadiens.com/', 'franchiseId': 1, 'active': True}, {'id': 9, 'name': 'Ottawa Senators', 'link': '/api/v1/teams/9', 'venue': {'id': 5031, 'name': 'Canadian Tire Centre', 'link': '/api/v1/venues/5031', 'city': 'Ottawa', 'timeZone': {'id': 'America/New_York', 'offset': -5, 'tz': 'EST'}}, 'abbreviation': 'OTT', 'teamName': 'Senators', 'locationName': 'Ottawa', 'firstYearOfPlay': '1990', 'division': {'id': 17, 'name': 'Atlantic', 'nameShort': 'ATL', 'link': '/api/v1/divisions/17', 'abbreviation': 'A'}, 'conference': {'id': 6, 'name': 'Eastern', 'link': '/api/v1/conferences/6'}, 'franchise': {'franchiseId': 30, 'teamName': 'Senators', 'link': '/api/v1/franchises/30'}, 'shortName': 'Ottawa', 'officialSiteUrl': 'http://www.ottawasenators.com/', 'franchiseId': 30, 'active': True}, {'id': 10, 'name': 'Toronto Maple Leafs', 'link': '/api/v1/teams/10', 'venue': {'name': 'Scotiabank Arena', 'link': '/api/v1/venues/null', 'city': 'Toronto', 'timeZone': {'id': 'America/Toronto', 'offset': -5, 'tz': 'EST'}}, 'abbreviation': 'TOR', 'teamName': 'Maple Leafs', 'locationName': 'Toronto', 'firstYearOfPlay': '1917', 'division': {'id': 17, 'name': 'Atlantic', 'nameShort': 'ATL', 'link': '/api/v1/divisions/17', 'abbreviation': 'A'}, 'conference': {'id': 6, 'name': 'Eastern', 'link': '/api/v1/conferences/6'}, 'franchise': {'franchiseId': 5, 'teamName': 'Maple Leafs', 'link': '/api/v1/franchises/5'}, 'shortName': 'Toronto', 'officialSiteUrl': 'http://www.mapleleafs.com/', 'franchiseId': 5, 'active': True}, {'id': 12, 'name': 'Carolina Hurricanes', 'link': '/api/v1/teams/12', 'venue': {'id': 5066, 'name': 'PNC Arena', 'link': '/api/v1/venues/5066', 'city': 'Raleigh', 'timeZone': {'id': 'America/New_York', 'offset': -5, 'tz': 'EST'}}, 'abbreviation': 'CAR', 'teamName': 'Hurricanes', 'locationName': 'Carolina', 'firstYearOfPlay': '1979', 'division': {'id': 18, 'name': 'Metropolitan', 'nameShort': 'Metro', 'link': '/api/v1/divisions/18', 'abbreviation': 'M'}, 'conference': {'id': 6, 'name': 'Eastern', 'link': '/api/v1/conferences/6'}, 'franchise': {'franchiseId': 26, 'teamName': 'Hurricanes', 'link': '/api/v1/franchises/26'}, 'shortName': 'Carolina', 'officialSiteUrl': 'http://www.carolinahurricanes.com/', 'franchiseId': 26, 'active': True}, {'id': 13, 'name': 'Florida Panthers', 'link': '/api/v1/teams/13', 'venue': {'id': 5027, 'name': 'BB&T Center', 'link': '/api/v1/venues/5027', 'city': 'Sunrise', 'timeZone': {'id': 'America/New_York', 'offset': -5, 'tz': 'EST'}}, 'abbreviation': 'FLA', 'teamName': 'Panthers', 'locationName': 'Florida', 'firstYearOfPlay': '1993', 'division': {'id': 17, 'name': 'Atlantic', 'nameShort': 'ATL', 'link': '/api/v1/divisions/17', 'abbreviation': 'A'}, 'conference': {'id': 6, 'name': 'Eastern', 'link': '/api/v1/conferences/6'}, 'franchise': {'franchiseId': 33, 'teamName': 'Panthers', 'link': '/api/v1/franchises/33'}, 'shortName': 'Florida', 'officialSiteUrl': 'http://www.floridapanthers.com/', 'franchiseId': 33, 'active': True}, {'id': 14, 'name': 'Tampa Bay Lightning', 'link': '/api/v1/teams/14', 'venue': {'id': 5017, 'name': 'Amalie Arena', 'link': '/api/v1/venues/5017', 'city': 'Tampa', 'timeZone': {'id': 'America/New_York', 'offset': -5, 'tz': 'EST'}}, 'abbreviation': 'TBL', 'teamName': 'Lightning', 'locationName': 'Tampa Bay', 'firstYearOfPlay': '1991', 'division': {'id': 17, 'name': 'Atlantic', 'nameShort': 'ATL', 'link': '/api/v1/divisions/17', 'abbreviation': 'A'}, 'conference': {'id': 6, 'name': 'Eastern', 'link': '/api/v1/conferences/6'}, 'franchise': {'franchiseId': 31, 'teamName': 'Lightning', 'link': '/api/v1/franchises/31'}, 'shortName': 'Tampa Bay', 'officialSiteUrl': 'http://www.tampabaylightning.com/', 'franchiseId': 31, 'active': True}, {'id': 15, 'name': 'Washington Capitals', 'link': '/api/v1/teams/15', 'venue': {'id': 5094, 'name': 'Capital One Arena', 'link': '/api/v1/venues/5094', 'city': 'Washington', 'timeZone': {'id': 'America/New_York', 'offset': -5, 'tz': 'EST'}}, 'abbreviation': 'WSH', 'teamName': 'Capitals', 'locationName': 'Washington', 'firstYearOfPlay': '1974', 'division': {'id': 18, 'name': 'Metropolitan', 'nameShort': 'Metro', 'link': '/api/v1/divisions/18', 'abbreviation': 'M'}, 'conference': {'id': 6, 'name': 'Eastern', 'link': '/api/v1/conferences/6'}, 'franchise': {'franchiseId': 24, 'teamName': 'Capitals', 'link': '/api/v1/franchises/24'}, 'shortName': 'Washington', 'officialSiteUrl': 'http://www.washingtoncapitals.com/', 'franchiseId': 24, 'active': True}, {'id': 16, 'name': 'Chicago Blackhawks', 'link': '/api/v1/teams/16', 'venue': {'id': 5092, 'name': 'United Center', 'link': '/api/v1/venues/5092', 'city': 'Chicago', 'timeZone': {'id': 'America/Chicago', 'offset': -6, 'tz': 'CST'}}, 'abbreviation': 'CHI', 'teamName': 'Blackhawks', 'locationName': 'Chicago', 'firstYearOfPlay': '1926', 'division': {'id': 16, 'name': 'Central', 'nameShort': 'CEN', 'link': '/api/v1/divisions/16', 'abbreviation': 'C'}, 'conference': {'id': 5, 'name': 'Western', 'link': '/api/v1/conferences/5'}, 'franchise': {'franchiseId': 11, 'teamName': 'Blackhawks', 'link': '/api/v1/franchises/11'}, 'shortName': 'Chicago', 'officialSiteUrl': 'http://www.chicagoblackhawks.com/', 'franchiseId': 11, 'active': True}, {'id': 17, 'name': 'Detroit Red Wings', 'link': '/api/v1/teams/17', 'venue': {'id': 5145, 'name': 'Little Caesars Arena', 'link': '/api/v1/venues/5145', 'city': 'Detroit', 'timeZone': {'id': 'America/Detroit', 'offset': -5, 'tz': 'EST'}}, 'abbreviation': 'DET', 'teamName': 'Red Wings', 'locationName': 'Detroit', 'firstYearOfPlay': '1926', 'division': {'id': 17, 'name': 'Atlantic', 'nameShort': 'ATL', 'link': '/api/v1/divisions/17', 'abbreviation': 'A'}, 'conference': {'id': 6, 'name': 'Eastern', 'link': '/api/v1/conferences/6'}, 'franchise': {'franchiseId': 12, 'teamName': 'Red Wings', 'link': '/api/v1/franchises/12'}, 'shortName': 'Detroit', 'officialSiteUrl': 'http://www.detroitredwings.com/', 'franchiseId': 12, 'active': True}, {'id': 18, 'name': 'Nashville Predators', 'link': '/api/v1/teams/18', 'venue': {'id': 5030, 'name': 'Bridgestone Arena', 'link': '/api/v1/venues/5030', 'city': 'Nashville', 'timeZone': {'id': 'America/Chicago', 'offset': -6, 'tz': 'CST'}}, 'abbreviation': 'NSH', 'teamName': 'Predators', 'locationName': 'Nashville', 'firstYearOfPlay': '1997', 'division': {'id': 16, 'name': 'Central', 'nameShort': 'CEN', 'link': '/api/v1/divisions/16', 'abbreviation': 'C'}, 'conference': {'id': 5, 'name': 'Western', 'link': '/api/v1/conferences/5'}, 'franchise': {'franchiseId': 34, 'teamName': 'Predators', 'link': '/api/v1/franchises/34'}, 'shortName': 'Nashville', 'officialSiteUrl': 'http://www.nashvillepredators.com/', 'franchiseId': 34, 'active': True}, {'id': 19, 'name': 'St. Louis Blues', 'link': '/api/v1/teams/19', 'venue': {'id': 5076, 'name': 'Enterprise Center', 'link': '/api/v1/venues/5076', 'city': 'St. Louis', 'timeZone': {'id': 'America/Chicago', 'offset': -6, 'tz': 'CST'}}, 'abbreviation': 'STL', 'teamName': 'Blues', 'locationName': 'St. Louis', 'firstYearOfPlay': '1967', 'division': {'id': 16, 'name': 'Central', 'nameShort': 'CEN', 'link': '/api/v1/divisions/16', 'abbreviation': 'C'}, 'conference': {'id': 5, 'name': 'Western', 'link': '/api/v1/conferences/5'}, 'franchise': {'franchiseId': 18, 'teamName': 'Blues', 'link': '/api/v1/franchises/18'}, 'shortName': 'St Louis', 'officialSiteUrl': 'http://www.stlouisblues.com/', 'franchiseId': 18, 'active': True}, {'id': 20, 'name': 'Calgary Flames', 'link': '/api/v1/teams/20', 'venue': {'id': 5075, 'name': 'Scotiabank Saddledome', 'link': '/api/v1/venues/5075', 'city': 'Calgary', 'timeZone': {'id': 'America/Denver', 'offset': -7, 'tz': 'MST'}}, 'abbreviation': 'CGY', 'teamName': 'Flames', 'locationName': 'Calgary', 'firstYearOfPlay': '1980', 'division': {'id': 15, 'name': 'Pacific', 'nameShort': 'PAC', 'link': '/api/v1/divisions/15', 'abbreviation': 'P'}, 'conference': {'id': 5, 'name': 'Western', 'link': '/api/v1/conferences/5'}, 'franchise': {'franchiseId': 21, 'teamName': 'Flames', 'link': '/api/v1/franchises/21'}, 'shortName': 'Calgary', 'officialSiteUrl': 'http://www.calgaryflames.com/', 'franchiseId': 21, 'active': True}, {'id': 21, 'name': 'Colorado Avalanche', 'link': '/api/v1/teams/21', 'venue': {'id': 5064, 'name': 'Pepsi Center', 'link': '/api/v1/venues/5064', 'city': 'Denver', 'timeZone': {'id': 'America/Denver', 'offset': -7, 'tz': 'MST'}}, 'abbreviation': 'COL', 'teamName': 'Avalanche', 'locationName': 'Colorado', 'firstYearOfPlay': '1979', 'division': {'id': 16, 'name': 'Central', 'nameShort': 'CEN', 'link': '/api/v1/divisions/16', 'abbreviation': 'C'}, 'conference': {'id': 5, 'name': 'Western', 'link': '/api/v1/conferences/5'}, 'franchise': {'franchiseId': 27, 'teamName': 'Avalanche', 'link': '/api/v1/franchises/27'}, 'shortName': 'Colorado', 'officialSiteUrl': 'http://www.coloradoavalanche.com/', 'franchiseId': 27, 'active': True}, {'id': 22, 'name': 'Edmonton Oilers', 'link': '/api/v1/teams/22', 'venue': {'id': 5100, 'name': 'Rogers Place', 'link': '/api/v1/venues/5100', 'city': 'Edmonton', 'timeZone': {'id': 'America/Edmonton', 'offset': -7, 'tz': 'MST'}}, 'abbreviation': 'EDM', 'teamName': 'Oilers', 'locationName': 'Edmonton', 'firstYearOfPlay': '1979', 'division': {'id': 15, 'name': 'Pacific', 'nameShort': 'PAC', 'link': '/api/v1/divisions/15', 'abbreviation': 'P'}, 'conference': {'id': 5, 'name': 'Western', 'link': '/api/v1/conferences/5'}, 'franchise': {'franchiseId': 25, 'teamName': 'Oilers', 'link': '/api/v1/franchises/25'}, 'shortName': 'Edmonton', 'officialSiteUrl': 'http://www.edmontonoilers.com/', 'franchiseId': 25, 'active': True}, {'id': 23, 'name': 'Vancouver Canucks', 'link': '/api/v1/teams/23', 'venue': {'id': 5073, 'name': 'Rogers Arena', 'link': '/api/v1/venues/5073', 'city': 'Vancouver', 'timeZone': {'id': 'America/Vancouver', 'offset': -8, 'tz': 'PST'}}, 'abbreviation': 'VAN', 'teamName': 'Canucks', 'locationName': 'Vancouver', 'firstYearOfPlay': '1970', 'division': {'id': 15, 'name': 'Pacific', 'nameShort': 'PAC', 'link': '/api/v1/divisions/15', 'abbreviation': 'P'}, 'conference': {'id': 5, 'name': 'Western', 'link': '/api/v1/conferences/5'}, 'franchise': {'franchiseId': 20, 'teamName': 'Canucks', 'link': '/api/v1/franchises/20'}, 'shortName': 'Vancouver', 'officialSiteUrl': 'http://www.canucks.com/', 'franchiseId': 20, 'active': True}, {'id': 24, 'name': 'Anaheim Ducks', 'link': '/api/v1/teams/24', 'venue': {'id': 5046, 'name': 'Honda Center', 'link': '/api/v1/venues/5046', 'city': 'Anaheim', 'timeZone': {'id': 'America/Los_Angeles', 'offset': -8, 'tz': 'PST'}}, 'abbreviation': 'ANA', 'teamName': 'Ducks', 'locationName': 'Anaheim', 'firstYearOfPlay': '1993', 'division': {'id': 15, 'name': 'Pacific', 'nameShort': 'PAC', 'link': '/api/v1/divisions/15', 'abbreviation': 'P'}, 'conference': {'id': 5, 'name': 'Western', 'link': '/api/v1/conferences/5'}, 'franchise': {'franchiseId': 32, 'teamName': 'Ducks', 'link': '/api/v1/franchises/32'}, 'shortName': 'Anaheim', 'officialSiteUrl': 'http://www.anaheimducks.com/', 'franchiseId': 32, 'active': True}, {'id': 25, 'name': 'Dallas Stars', 'link': '/api/v1/teams/25', 'venue': {'id': 5019, 'name': 'American Airlines Center', 'link': '/api/v1/venues/5019', 'city': 'Dallas', 'timeZone': {'id': 'America/Chicago', 'offset': -6, 'tz': 'CST'}}, 'abbreviation': 'DAL', 'teamName': 'Stars', 'locationName': 'Dallas', 'firstYearOfPlay': '1967', 'division': {'id': 16, 'name': 'Central', 'nameShort': 'CEN', 'link': '/api/v1/divisions/16', 'abbreviation': 'C'}, 'conference': {'id': 5, 'name': 'Western', 'link': '/api/v1/conferences/5'}, 'franchise': {'franchiseId': 15, 'teamName': 'Stars', 'link': '/api/v1/franchises/15'}, 'shortName': 'Dallas', 'officialSiteUrl': 'http://www.dallasstars.com/', 'franchiseId': 15, 'active': True}, {'id': 26, 'name': 'Los Angeles Kings', 'link': '/api/v1/teams/26', 'venue': {'name': 'STAPLES Center', 'link': '/api/v1/venues/null', 'city': 'Los Angeles', 'timeZone': {'id': 'America/Los_Angeles', 'offset': -8, 'tz': 'PST'}}, 'abbreviation': 'LAK', 'teamName': 'Kings', 'locationName': 'Los Angeles', 'firstYearOfPlay': '1967', 'division': {'id': 15, 'name': 'Pacific', 'nameShort': 'PAC', 'link': '/api/v1/divisions/15', 'abbreviation': 'P'}, 'conference': {'id': 5, 'name': 'Western', 'link': '/api/v1/conferences/5'}, 'franchise': {'franchiseId': 14, 'teamName': 'Kings', 'link': '/api/v1/franchises/14'}, 'shortName': 'Los Angeles', 'officialSiteUrl': 'http://www.lakings.com/', 'franchiseId': 14, 'active': True}, {'id': 28, 'name': 'San Jose Sharks', 'link': '/api/v1/teams/28', 'venue': {'name': 'SAP Center at San Jose', 'link': '/api/v1/venues/null', 'city': 'San Jose', 'timeZone': {'id': 'America/Los_Angeles', 'offset': -8, 'tz': 'PST'}}, 'abbreviation': 'SJS', 'teamName': 'Sharks', 'locationName': 'San Jose', 'firstYearOfPlay': '1990', 'division': {'id': 15, 'name': 'Pacific', 'nameShort': 'PAC', 'link': '/api/v1/divisions/15', 'abbreviation': 'P'}, 'conference': {'id': 5, 'name': 'Western', 'link': '/api/v1/conferences/5'}, 'franchise': {'franchiseId': 29, 'teamName': 'Sharks', 'link': '/api/v1/franchises/29'}, 'shortName': 'San Jose', 'officialSiteUrl': 'http://www.sjsharks.com/', 'franchiseId': 29, 'active': True}, {'id': 29, 'name': 'Columbus Blue Jackets', 'link': '/api/v1/teams/29', 'venue': {'id': 5059, 'name': 'Nationwide Arena', 'link': '/api/v1/venues/5059', 'city': 'Columbus', 'timeZone': {'id': 'America/New_York', 'offset': -5, 'tz': 'EST'}}, 'abbreviation': 'CBJ', 'teamName': 'Blue Jackets', 'locationName': 'Columbus', 'firstYearOfPlay': '1997', 'division': {'id': 18, 'name': 'Metropolitan', 'nameShort': 'Metro', 'link': '/api/v1/divisions/18', 'abbreviation': 'M'}, 'conference': {'id': 6, 'name': 'Eastern', 'link': '/api/v1/conferences/6'}, 'franchise': {'franchiseId': 36, 'teamName': 'Blue Jackets', 'link': '/api/v1/franchises/36'}, 'shortName': 'Columbus', 'officialSiteUrl': 'http://www.bluejackets.com/', 'franchiseId': 36, 'active': True}, {'id': 30, 'name': 'Minnesota Wild', 'link': '/api/v1/teams/30', 'venue': {'id': 5098, 'name': 'Xcel Energy Center', 'link': '/api/v1/venues/5098', 'city': 'St. Paul', 'timeZone': {'id': 'America/Chicago', 'offset': -6, 'tz': 'CST'}}, 'abbreviation': 'MIN', 'teamName': 'Wild', 'locationName': 'Minnesota', 'firstYearOfPlay': '1997', 'division': {'id': 16, 'name': 'Central', 'nameShort': 'CEN', 'link': '/api/v1/divisions/16', 'abbreviation': 'C'}, 'conference': {'id': 5, 'name': 'Western', 'link': '/api/v1/conferences/5'}, 'franchise': {'franchiseId': 37, 'teamName': 'Wild', 'link': '/api/v1/franchises/37'}, 'shortName': 'Minnesota', 'officialSiteUrl': 'http://www.wild.com/', 'franchiseId': 37, 'active': True}, {'id': 52, 'name': 'Winnipeg Jets', 'link': '/api/v1/teams/52', 'venue': {'id': 5058, 'name': 'Bell MTS Place', 'link': '/api/v1/venues/5058', 'city': 'Winnipeg', 'timeZone': {'id': 'America/Winnipeg', 'offset': -6, 'tz': 'CST'}}, 'abbreviation': 'WPG', 'teamName': 'Jets', 'locationName': 'Winnipeg', 'firstYearOfPlay': '2011', 'division': {'id': 16, 'name': 'Central', 'nameShort': 'CEN', 'link': '/api/v1/divisions/16', 'abbreviation': 'C'}, 'conference': {'id': 5, 'name': 'Western', 'link': '/api/v1/conferences/5'}, 'franchise': {'franchiseId': 35, 'teamName': 'Jets', 'link': '/api/v1/franchises/35'}, 'shortName': 'Winnipeg', 'officialSiteUrl': 'http://winnipegjets.com/', 'franchiseId': 35, 'active': True}, {'id': 53, 'name': 'Arizona Coyotes', 'link': '/api/v1/teams/53', 'venue': {'id': 5043, 'name': 'Gila River Arena', 'link': '/api/v1/venues/5043', 'city': 'Glendale', 'timeZone': {'id': 'America/Phoenix', 'offset': -7, 'tz': 'MST'}}, 'abbreviation': 'ARI', 'teamName': 'Coyotes', 'locationName': 'Arizona', 'firstYearOfPlay': '1979', 'division': {'id': 15, 'name': 'Pacific', 'nameShort': 'PAC', 'link': '/api/v1/divisions/15', 'abbreviation': 'P'}, 'conference': {'id': 5, 'name': 'Western', 'link': '/api/v1/conferences/5'}, 'franchise': {'franchiseId': 28, 'teamName': 'Coyotes', 'link': '/api/v1/franchises/28'}, 'shortName': 'Arizona', 'officialSiteUrl': 'http://www.arizonacoyotes.com/', 'franchiseId': 28, 'active': True}, {'id': 54, 'name': 'Vegas Golden Knights', 'link': '/api/v1/teams/54', 'venue': {'id': 5178, 'name': 'T-Mobile Arena', 'link': '/api/v1/venues/5178', 'city': 'Las Vegas', 'timeZone': {'id': 'America/Los_Angeles', 'offset': -8, 'tz': 'PST'}}, 'abbreviation': 'VGK', 'teamName': 'Golden Knights', 'locationName': 'Vegas', 'firstYearOfPlay': '2016', 'division': {'id': 15, 'name': 'Pacific', 'nameShort': 'PAC', 'link': '/api/v1/divisions/15', 'abbreviation': 'P'}, 'conference': {'id': 5, 'name': 'Western', 'link': '/api/v1/conferences/5'}, 'franchise': {'franchiseId': 38, 'teamName': 'Golden Knights', 'link': '/api/v1/franchises/38'}, 'shortName': 'Vegas', 'officialSiteUrl': 'http://www.vegasgoldenknights.com/', 'franchiseId': 38, 'active': True}]\n"
     ]
    }
   ],
   "source": [
    "for key, value in teams.items():\n",
    "    print(key, value)"
   ]
  },
  {
   "cell_type": "code",
   "execution_count": 4,
   "metadata": {},
   "outputs": [
    {
     "data": {
      "text/plain": [
       "{'id': 16,\n",
       " 'name': 'Chicago Blackhawks',\n",
       " 'link': '/api/v1/teams/16',\n",
       " 'venue': {'id': 5092,\n",
       "  'name': 'United Center',\n",
       "  'link': '/api/v1/venues/5092',\n",
       "  'city': 'Chicago',\n",
       "  'timeZone': {'id': 'America/Chicago', 'offset': -6, 'tz': 'CST'}},\n",
       " 'abbreviation': 'CHI',\n",
       " 'teamName': 'Blackhawks',\n",
       " 'locationName': 'Chicago',\n",
       " 'firstYearOfPlay': '1926',\n",
       " 'division': {'id': 16,\n",
       "  'name': 'Central',\n",
       "  'nameShort': 'CEN',\n",
       "  'link': '/api/v1/divisions/16',\n",
       "  'abbreviation': 'C'},\n",
       " 'conference': {'id': 5, 'name': 'Western', 'link': '/api/v1/conferences/5'},\n",
       " 'franchise': {'franchiseId': 11,\n",
       "  'teamName': 'Blackhawks',\n",
       "  'link': '/api/v1/franchises/11'},\n",
       " 'shortName': 'Chicago',\n",
       " 'officialSiteUrl': 'http://www.chicagoblackhawks.com/',\n",
       " 'franchiseId': 11,\n",
       " 'active': True}"
      ]
     },
     "execution_count": 4,
     "metadata": {},
     "output_type": "execute_result"
    }
   ],
   "source": [
    "teams['teams'][14]"
   ]
  },
  {
   "cell_type": "code",
   "execution_count": 5,
   "metadata": {},
   "outputs": [
    {
     "data": {
      "text/plain": [
       "{'displayName': 'yearByYearPlayoffs'}"
      ]
     },
     "execution_count": 5,
     "metadata": {},
     "output_type": "execute_result"
    }
   ],
   "source": [
    "stattype[2]"
   ]
  },
  {
   "cell_type": "code",
   "execution_count": 23,
   "metadata": {},
   "outputs": [],
   "source": [
    "game = requests.get('https://statsapi.web.nhl.com/api/v1/game/2016020072/linescore').json()"
   ]
  },
  {
   "cell_type": "code",
   "execution_count": 19,
   "metadata": {},
   "outputs": [
    {
     "name": "stdout",
     "output_type": "stream",
     "text": [
      "copyright\n",
      "teams\n",
      "officials\n"
     ]
    }
   ],
   "source": [
    "for k,v in game.items():\n",
    "    print(k)"
   ]
  },
  {
   "cell_type": "code",
   "execution_count": 8,
   "metadata": {},
   "outputs": [
    {
     "name": "stdout",
     "output_type": "stream",
     "text": [
      "plays\n",
      "linescore\n",
      "boxscore\n",
      "decisions\n"
     ]
    }
   ],
   "source": [
    "for k,v in game['liveData'].items():\n",
    "    print(k)"
   ]
  },
  {
   "cell_type": "code",
   "execution_count": 14,
   "metadata": {},
   "outputs": [
    {
     "name": "stdout",
     "output_type": "stream",
     "text": [
      "goals\n",
      "pim\n",
      "shots\n",
      "powerPlayPercentage\n",
      "powerPlayGoals\n",
      "powerPlayOpportunities\n",
      "faceOffWinPercentage\n",
      "blocked\n",
      "takeaways\n",
      "giveaways\n",
      "hits\n",
      "35\n"
     ]
    }
   ],
   "source": [
    "for k,v in game['liveData']['boxscore']['teams']['home']['teamStats']['teamSkaterStats'].items():\n",
    "    print(k)\n",
    "print(game['liveData']['boxscore']['teams']['home']['teamStats']['teamSkaterStats']['shots'])"
   ]
  },
  {
   "cell_type": "code",
   "execution_count": 10,
   "metadata": {},
   "outputs": [
    {
     "name": "stdout",
     "output_type": "stream",
     "text": [
      "players\n",
      "result\n",
      "about\n",
      "coordinates\n",
      "team\n",
      "Hit\n"
     ]
    }
   ],
   "source": [
    "#print(game['liveData']['plays']['allPlays'][0]['result']['event'])\n",
    "for k,v in game['liveData']['plays']['allPlays'][4].items():\n",
    "    print(k)\n",
    "print(game['liveData']['plays']['allPlays'][4]['result']['event'])"
   ]
  },
  {
   "cell_type": "code",
   "execution_count": 11,
   "metadata": {},
   "outputs": [
    {
     "name": "stdout",
     "output_type": "stream",
     "text": [
      "43 53\n"
     ]
    }
   ],
   "source": [
    "count_hit = 0\n",
    "count_shot = 0\n",
    "for play in game['liveData']['plays']['allPlays']:\n",
    "    if play['result']['event'] == 'Hit':\n",
    "        count_hit += 1\n",
    "    elif play['result']['event'] == 'Shot':\n",
    "        count_shot += 1\n",
    "print(count_hit, count_shot)"
   ]
  },
  {
   "cell_type": "markdown",
   "metadata": {},
   "source": [
    "```Look for all games for Blackhawks in 2016-2017 season```"
   ]
  },
  {
   "cell_type": "code",
   "execution_count": 7,
   "metadata": {},
   "outputs": [],
   "source": [
    "bhawks_sch = requests.get('https://statsapi.web.nhl.com/api/v1/schedule?teamId=16&startDate=2016-09-01&endDate=2017-05-31').json()"
   ]
  },
  {
   "cell_type": "code",
   "execution_count": 8,
   "metadata": {},
   "outputs": [
    {
     "name": "stdout",
     "output_type": "stream",
     "text": [
      "copyright\n",
      "totalItems\n",
      "totalEvents\n",
      "totalGames\n",
      "totalMatches\n",
      "wait\n",
      "dates\n"
     ]
    }
   ],
   "source": [
    "for k,v in bhawks_sch.items():\n",
    "    print(k)"
   ]
  },
  {
   "cell_type": "code",
   "execution_count": 11,
   "metadata": {},
   "outputs": [
    {
     "data": {
      "text/plain": [
       "{'date': '2016-10-22',\n",
       " 'totalItems': 1,\n",
       " 'totalEvents': 0,\n",
       " 'totalGames': 1,\n",
       " 'totalMatches': 0,\n",
       " 'games': [{'gamePk': 2016020072,\n",
       "   'link': '/api/v1/game/2016020072/feed/live',\n",
       "   'gameType': 'R',\n",
       "   'season': '20162017',\n",
       "   'gameDate': '2016-10-22T23:00:00Z',\n",
       "   'status': {'abstractGameState': 'Final',\n",
       "    'codedGameState': '7',\n",
       "    'detailedState': 'Final',\n",
       "    'statusCode': '7',\n",
       "    'startTimeTBD': False},\n",
       "   'teams': {'away': {'leagueRecord': {'wins': 1,\n",
       "      'losses': 1,\n",
       "      'ot': 3,\n",
       "      'type': 'league'},\n",
       "     'score': 4,\n",
       "     'team': {'id': 10,\n",
       "      'name': 'Toronto Maple Leafs',\n",
       "      'link': '/api/v1/teams/10'}},\n",
       "    'home': {'leagueRecord': {'wins': 3,\n",
       "      'losses': 3,\n",
       "      'ot': 0,\n",
       "      'type': 'league'},\n",
       "     'score': 5,\n",
       "     'team': {'id': 16,\n",
       "      'name': 'Chicago Blackhawks',\n",
       "      'link': '/api/v1/teams/16'}}},\n",
       "   'venue': {'id': 5092,\n",
       "    'name': 'United Center',\n",
       "    'link': '/api/v1/venues/5092'},\n",
       "   'content': {'link': '/api/v1/game/2016020072/content'}}],\n",
       " 'events': [],\n",
       " 'matches': []}"
      ]
     },
     "execution_count": 11,
     "metadata": {},
     "output_type": "execute_result"
    }
   ],
   "source": [
    "bhawks_sch['dates'][11]"
   ]
  },
  {
   "cell_type": "code",
   "execution_count": 50,
   "metadata": {},
   "outputs": [],
   "source": [
    "id = bhawks_sch['dates'][87]['games'][0]['gamePk']"
   ]
  },
  {
   "cell_type": "code",
   "execution_count": 66,
   "metadata": {},
   "outputs": [
    {
     "name": "stdout",
     "output_type": "stream",
     "text": [
      "2016021220\n",
      "2\n",
      "Yes\n"
     ]
    }
   ],
   "source": [
    "print(id)\n",
    "print(int(str(id)[4:6]))\n",
    "if id // 10**4 % 10 == 2:\n",
    "    print(\"Yes\")"
   ]
  },
  {
   "cell_type": "code",
   "execution_count": 32,
   "metadata": {},
   "outputs": [],
   "source": [
    "tea"
   ]
  },
  {
   "cell_type": "code",
   "execution_count": 24,
   "metadata": {},
   "outputs": [
    {
     "name": "stdout",
     "output_type": "stream",
     "text": [
      "copyright\n",
      "currentPeriod\n",
      "currentPeriodOrdinal\n",
      "currentPeriodTimeRemaining\n",
      "periods\n",
      "shootoutInfo\n",
      "teams\n",
      "powerPlayStrength\n",
      "hasShootout\n",
      "intermissionInfo\n"
     ]
    }
   ],
   "source": [
    "for k,v in game.items():\n",
    "    print(k)"
   ]
  },
  {
   "cell_type": "code",
   "execution_count": 20,
   "metadata": {},
   "outputs": [
    {
     "name": "stdout",
     "output_type": "stream",
     "text": [
      "team\n",
      "teamStats\n",
      "players\n",
      "goalies\n",
      "skaters\n",
      "onIce\n",
      "onIcePlus\n",
      "scratches\n",
      "penaltyBox\n",
      "coaches\n"
     ]
    }
   ],
   "source": [
    "for k,v in game['teams']['away'].items():\n",
    "    print(k)"
   ]
  },
  {
   "cell_type": "code",
   "execution_count": 21,
   "metadata": {},
   "outputs": [
    {
     "data": {
      "text/plain": [
       "{'id': 10, 'name': 'Toronto Maple Leafs', 'link': '/api/v1/teams/10'}"
      ]
     },
     "execution_count": 21,
     "metadata": {},
     "output_type": "execute_result"
    }
   ],
   "source": [
    "game['teams']['away']['team']"
   ]
  },
  {
   "cell_type": "code",
   "execution_count": 22,
   "metadata": {},
   "outputs": [
    {
     "data": {
      "text/plain": [
       "{'goals': 4,\n",
       " 'pim': 12,\n",
       " 'shots': 34,\n",
       " 'powerPlayPercentage': '50.0',\n",
       " 'powerPlayGoals': 1.0,\n",
       " 'powerPlayOpportunities': 2.0,\n",
       " 'faceOffWinPercentage': '46.7',\n",
       " 'blocked': 24,\n",
       " 'takeaways': 3,\n",
       " 'giveaways': 6,\n",
       " 'hits': 27}"
      ]
     },
     "execution_count": 22,
     "metadata": {},
     "output_type": "execute_result"
    }
   ],
   "source": [
    "game['teams']['away']['teamStats']['teamSkaterStats']"
   ]
  },
  {
   "cell_type": "code",
   "execution_count": 28,
   "metadata": {},
   "outputs": [
    {
     "data": {
      "text/plain": [
       "{'away': {'scores': 1, 'attempts': 3},\n",
       " 'home': {'scores': 2, 'attempts': 3},\n",
       " 'startTime': '2016-10-23T02:04:02Z'}"
      ]
     },
     "execution_count": 28,
     "metadata": {},
     "output_type": "execute_result"
    }
   ],
   "source": [
    "game['shootoutInfo']"
   ]
  },
  {
   "cell_type": "code",
   "execution_count": null,
   "metadata": {},
   "outputs": [],
   "source": []
  }
 ],
 "metadata": {
  "kernelspec": {
   "display_name": "Python 3",
   "language": "python",
   "name": "python3"
  },
  "language_info": {
   "codemirror_mode": {
    "name": "ipython",
    "version": 3
   },
   "file_extension": ".py",
   "mimetype": "text/x-python",
   "name": "python",
   "nbconvert_exporter": "python",
   "pygments_lexer": "ipython3",
   "version": "3.7.2"
  }
 },
 "nbformat": 4,
 "nbformat_minor": 2
}
